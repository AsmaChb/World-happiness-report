{
 "cells": [
  {
   "cell_type": "code",
   "execution_count": 1,
   "metadata": {},
   "outputs": [],
   "source": [
    "import pandas as pd\n",
    "import numpy as np\n",
    "import matplotlib.pyplot as plt\n",
    "import seaborn as sns\n",
    "import pprint as pp\n",
    "%matplotlib inline\n",
    "\n"
   ]
  },
  {
   "cell_type": "markdown",
   "metadata": {},
   "source": [
    "## A. Importing, cleaning and numerical summaries"
   ]
  },
  {
   "cell_type": "code",
   "execution_count": 2,
   "metadata": {},
   "outputs": [
    {
     "data": {
      "text/html": [
       "<div>\n",
       "<style scoped>\n",
       "    .dataframe tbody tr th:only-of-type {\n",
       "        vertical-align: middle;\n",
       "    }\n",
       "\n",
       "    .dataframe tbody tr th {\n",
       "        vertical-align: top;\n",
       "    }\n",
       "\n",
       "    .dataframe thead th {\n",
       "        text-align: right;\n",
       "    }\n",
       "</style>\n",
       "<table border=\"1\" class=\"dataframe\">\n",
       "  <thead>\n",
       "    <tr style=\"text-align: right;\">\n",
       "      <th></th>\n",
       "      <th>Country</th>\n",
       "      <th>Happiness Rank</th>\n",
       "      <th>Happiness Score</th>\n",
       "      <th>Economy</th>\n",
       "      <th>Family</th>\n",
       "      <th>Health</th>\n",
       "      <th>Freedom</th>\n",
       "      <th>Generosity</th>\n",
       "      <th>Corruption</th>\n",
       "      <th>Dystopia</th>\n",
       "      <th>Job Satisfaction</th>\n",
       "      <th>Region</th>\n",
       "    </tr>\n",
       "  </thead>\n",
       "  <tbody>\n",
       "    <tr>\n",
       "      <th>0</th>\n",
       "      <td>Malta</td>\n",
       "      <td>27</td>\n",
       "      <td>6.527</td>\n",
       "      <td>1.343280</td>\n",
       "      <td>1.488412</td>\n",
       "      <td>0.821944</td>\n",
       "      <td>0.588767</td>\n",
       "      <td>0.574731</td>\n",
       "      <td>0.153066</td>\n",
       "      <td>1.556863</td>\n",
       "      <td>85.2</td>\n",
       "      <td>Western Europe</td>\n",
       "    </tr>\n",
       "    <tr>\n",
       "      <th>1</th>\n",
       "      <td>Zimbabwe</td>\n",
       "      <td>138</td>\n",
       "      <td>3.875</td>\n",
       "      <td>0.375847</td>\n",
       "      <td>1.083096</td>\n",
       "      <td>0.196764</td>\n",
       "      <td>0.336384</td>\n",
       "      <td>0.189143</td>\n",
       "      <td>0.095375</td>\n",
       "      <td>1.597970</td>\n",
       "      <td>56.3</td>\n",
       "      <td>Africa</td>\n",
       "    </tr>\n",
       "    <tr>\n",
       "      <th>2</th>\n",
       "      <td>Cyprus</td>\n",
       "      <td>65</td>\n",
       "      <td>5.621</td>\n",
       "      <td>1.355938</td>\n",
       "      <td>1.131363</td>\n",
       "      <td>0.844715</td>\n",
       "      <td>0.355112</td>\n",
       "      <td>0.271254</td>\n",
       "      <td>0.041238</td>\n",
       "      <td>1.621249</td>\n",
       "      <td>88.7</td>\n",
       "      <td>Eastern Europe</td>\n",
       "    </tr>\n",
       "    <tr>\n",
       "      <th>3</th>\n",
       "      <td>Iran</td>\n",
       "      <td>108</td>\n",
       "      <td>4.692</td>\n",
       "      <td>1.156873</td>\n",
       "      <td>0.711551</td>\n",
       "      <td>0.639333</td>\n",
       "      <td>0.249323</td>\n",
       "      <td>0.387243</td>\n",
       "      <td>0.048761</td>\n",
       "      <td>1.498735</td>\n",
       "      <td>70.3</td>\n",
       "      <td>Asia-Pacific</td>\n",
       "    </tr>\n",
       "    <tr>\n",
       "      <th>4</th>\n",
       "      <td>Mexico</td>\n",
       "      <td>25</td>\n",
       "      <td>6.578</td>\n",
       "      <td>1.153184</td>\n",
       "      <td>1.210862</td>\n",
       "      <td>0.709979</td>\n",
       "      <td>0.412730</td>\n",
       "      <td>0.120990</td>\n",
       "      <td>0.132774</td>\n",
       "      <td>2.837155</td>\n",
       "      <td>82.4</td>\n",
       "      <td>Latin America</td>\n",
       "    </tr>\n",
       "  </tbody>\n",
       "</table>\n",
       "</div>"
      ],
      "text/plain": [
       "    Country  Happiness Rank  Happiness Score   Economy    Family    Health  \\\n",
       "0     Malta              27            6.527  1.343280  1.488412  0.821944   \n",
       "1  Zimbabwe             138            3.875  0.375847  1.083096  0.196764   \n",
       "2    Cyprus              65            5.621  1.355938  1.131363  0.844715   \n",
       "3      Iran             108            4.692  1.156873  0.711551  0.639333   \n",
       "4    Mexico              25            6.578  1.153184  1.210862  0.709979   \n",
       "\n",
       "    Freedom  Generosity  Corruption  Dystopia  Job Satisfaction  \\\n",
       "0  0.588767    0.574731    0.153066  1.556863              85.2   \n",
       "1  0.336384    0.189143    0.095375  1.597970              56.3   \n",
       "2  0.355112    0.271254    0.041238  1.621249              88.7   \n",
       "3  0.249323    0.387243    0.048761  1.498735              70.3   \n",
       "4  0.412730    0.120990    0.132774  2.837155              82.4   \n",
       "\n",
       "           Region  \n",
       "0  Western Europe  \n",
       "1          Africa  \n",
       "2  Eastern Europe  \n",
       "3    Asia-Pacific  \n",
       "4   Latin America  "
      ]
     },
     "execution_count": 2,
     "metadata": {},
     "output_type": "execute_result"
    }
   ],
   "source": [
    "data = pd.read_csv('data.csv')\n",
    "data.head()"
   ]
  },
  {
   "cell_type": "code",
   "execution_count": 3,
   "metadata": {},
   "outputs": [
    {
     "name": "stdout",
     "output_type": "stream",
     "text": [
      "number of observations =  153 , number of features =  12\n"
     ]
    },
    {
     "data": {
      "text/plain": [
       "Country              object\n",
       "Happiness Rank        int64\n",
       "Happiness Score     float64\n",
       "Economy             float64\n",
       "Family              float64\n",
       "Health              float64\n",
       "Freedom             float64\n",
       "Generosity          float64\n",
       "Corruption          float64\n",
       "Dystopia            float64\n",
       "Job Satisfaction    float64\n",
       "Region               object\n",
       "dtype: object"
      ]
     },
     "execution_count": 3,
     "metadata": {},
     "output_type": "execute_result"
    }
   ],
   "source": [
    "print('number of observations = ',data.shape[0], ', number of features = ',data.shape[1])\n",
    "columns = data.columns\n",
    "data.dtypes\n"
   ]
  },
  {
   "cell_type": "code",
   "execution_count": 4,
   "metadata": {},
   "outputs": [],
   "source": [
    "data.isna().sum()\n",
    "\n",
    "#2 missing value in Job Satisfaction column : we remove these 2 rows\n",
    "data = data.dropna()"
   ]
  },
  {
   "cell_type": "code",
   "execution_count": 5,
   "metadata": {},
   "outputs": [
    {
     "data": {
      "text/html": [
       "<div>\n",
       "<style scoped>\n",
       "    .dataframe tbody tr th:only-of-type {\n",
       "        vertical-align: middle;\n",
       "    }\n",
       "\n",
       "    .dataframe tbody tr th {\n",
       "        vertical-align: top;\n",
       "    }\n",
       "\n",
       "    .dataframe thead th {\n",
       "        text-align: right;\n",
       "    }\n",
       "</style>\n",
       "<table border=\"1\" class=\"dataframe\">\n",
       "  <thead>\n",
       "    <tr style=\"text-align: right;\">\n",
       "      <th></th>\n",
       "      <th>Happiness Rank</th>\n",
       "      <th>Happiness Score</th>\n",
       "      <th>Economy</th>\n",
       "      <th>Family</th>\n",
       "      <th>Health</th>\n",
       "      <th>Freedom</th>\n",
       "      <th>Generosity</th>\n",
       "      <th>Corruption</th>\n",
       "      <th>Dystopia</th>\n",
       "      <th>Job Satisfaction</th>\n",
       "    </tr>\n",
       "  </thead>\n",
       "  <tbody>\n",
       "    <tr>\n",
       "      <th>count</th>\n",
       "      <td>151.000000</td>\n",
       "      <td>151.000000</td>\n",
       "      <td>151.000000</td>\n",
       "      <td>151.000000</td>\n",
       "      <td>151.000000</td>\n",
       "      <td>151.000000</td>\n",
       "      <td>151.000000</td>\n",
       "      <td>151.000000</td>\n",
       "      <td>151.000000</td>\n",
       "      <td>151.000000</td>\n",
       "    </tr>\n",
       "    <tr>\n",
       "      <th>mean</th>\n",
       "      <td>77.827815</td>\n",
       "      <td>5.357874</td>\n",
       "      <td>0.983895</td>\n",
       "      <td>1.190509</td>\n",
       "      <td>0.550794</td>\n",
       "      <td>0.409805</td>\n",
       "      <td>0.244914</td>\n",
       "      <td>0.123008</td>\n",
       "      <td>1.854910</td>\n",
       "      <td>75.209934</td>\n",
       "    </tr>\n",
       "    <tr>\n",
       "      <th>std</th>\n",
       "      <td>44.934732</td>\n",
       "      <td>1.132826</td>\n",
       "      <td>0.420955</td>\n",
       "      <td>0.286371</td>\n",
       "      <td>0.236116</td>\n",
       "      <td>0.150144</td>\n",
       "      <td>0.135236</td>\n",
       "      <td>0.102776</td>\n",
       "      <td>0.502189</td>\n",
       "      <td>12.962365</td>\n",
       "    </tr>\n",
       "    <tr>\n",
       "      <th>min</th>\n",
       "      <td>1.000000</td>\n",
       "      <td>2.693000</td>\n",
       "      <td>0.000000</td>\n",
       "      <td>0.000000</td>\n",
       "      <td>0.000000</td>\n",
       "      <td>0.000000</td>\n",
       "      <td>0.000000</td>\n",
       "      <td>0.000000</td>\n",
       "      <td>0.377914</td>\n",
       "      <td>44.400000</td>\n",
       "    </tr>\n",
       "    <tr>\n",
       "      <th>25%</th>\n",
       "      <td>39.500000</td>\n",
       "      <td>4.505500</td>\n",
       "      <td>0.663371</td>\n",
       "      <td>1.042635</td>\n",
       "      <td>0.369866</td>\n",
       "      <td>0.303677</td>\n",
       "      <td>0.152574</td>\n",
       "      <td>0.056919</td>\n",
       "      <td>1.605148</td>\n",
       "      <td>68.950000</td>\n",
       "    </tr>\n",
       "    <tr>\n",
       "      <th>50%</th>\n",
       "      <td>78.000000</td>\n",
       "      <td>5.279000</td>\n",
       "      <td>1.064578</td>\n",
       "      <td>1.253918</td>\n",
       "      <td>0.606042</td>\n",
       "      <td>0.437454</td>\n",
       "      <td>0.230947</td>\n",
       "      <td>0.089283</td>\n",
       "      <td>1.832910</td>\n",
       "      <td>78.100000</td>\n",
       "    </tr>\n",
       "    <tr>\n",
       "      <th>75%</th>\n",
       "      <td>116.500000</td>\n",
       "      <td>6.101500</td>\n",
       "      <td>1.314879</td>\n",
       "      <td>1.418162</td>\n",
       "      <td>0.715975</td>\n",
       "      <td>0.519467</td>\n",
       "      <td>0.323762</td>\n",
       "      <td>0.152207</td>\n",
       "      <td>2.161605</td>\n",
       "      <td>85.100000</td>\n",
       "    </tr>\n",
       "    <tr>\n",
       "      <th>max</th>\n",
       "      <td>155.000000</td>\n",
       "      <td>7.537000</td>\n",
       "      <td>1.870766</td>\n",
       "      <td>1.610574</td>\n",
       "      <td>0.949492</td>\n",
       "      <td>0.658249</td>\n",
       "      <td>0.838075</td>\n",
       "      <td>0.464308</td>\n",
       "      <td>3.117485</td>\n",
       "      <td>95.100000</td>\n",
       "    </tr>\n",
       "  </tbody>\n",
       "</table>\n",
       "</div>"
      ],
      "text/plain": [
       "       Happiness Rank  Happiness Score     Economy      Family      Health  \\\n",
       "count      151.000000       151.000000  151.000000  151.000000  151.000000   \n",
       "mean        77.827815         5.357874    0.983895    1.190509    0.550794   \n",
       "std         44.934732         1.132826    0.420955    0.286371    0.236116   \n",
       "min          1.000000         2.693000    0.000000    0.000000    0.000000   \n",
       "25%         39.500000         4.505500    0.663371    1.042635    0.369866   \n",
       "50%         78.000000         5.279000    1.064578    1.253918    0.606042   \n",
       "75%        116.500000         6.101500    1.314879    1.418162    0.715975   \n",
       "max        155.000000         7.537000    1.870766    1.610574    0.949492   \n",
       "\n",
       "          Freedom  Generosity  Corruption    Dystopia  Job Satisfaction  \n",
       "count  151.000000  151.000000  151.000000  151.000000        151.000000  \n",
       "mean     0.409805    0.244914    0.123008    1.854910         75.209934  \n",
       "std      0.150144    0.135236    0.102776    0.502189         12.962365  \n",
       "min      0.000000    0.000000    0.000000    0.377914         44.400000  \n",
       "25%      0.303677    0.152574    0.056919    1.605148         68.950000  \n",
       "50%      0.437454    0.230947    0.089283    1.832910         78.100000  \n",
       "75%      0.519467    0.323762    0.152207    2.161605         85.100000  \n",
       "max      0.658249    0.838075    0.464308    3.117485         95.100000  "
      ]
     },
     "execution_count": 5,
     "metadata": {},
     "output_type": "execute_result"
    }
   ],
   "source": [
    "#mean, minimum and maximum value (and more) for each numerical column\n",
    "data.describe()"
   ]
  },
  {
   "cell_type": "code",
   "execution_count": 6,
   "metadata": {},
   "outputs": [
    {
     "data": {
      "text/plain": [
       "0         Norway\n",
       "1        Denmark\n",
       "2        Iceland\n",
       "3    Switzerland\n",
       "4        Finland\n",
       "5    Netherlands\n",
       "6         Canada\n",
       "7    New Zealand\n",
       "8      Australia\n",
       "9         Sweden\n",
       "Name: Country, dtype: object"
      ]
     },
     "execution_count": 6,
     "metadata": {},
     "output_type": "execute_result"
    }
   ],
   "source": [
    "#list of the 10 happiest countries\n",
    "happiest = data.sort_values('Happiness Score', ascending = False )\n",
    "happiest = happiest.reset_index(drop=True)\n",
    "ten_happiest = happiest.loc[0:9]\n",
    "ten_happiest['Country']\n",
    "\n"
   ]
  },
  {
   "cell_type": "code",
   "execution_count": 7,
   "metadata": {},
   "outputs": [
    {
     "data": {
      "text/plain": [
       "0    Central African Republic\n",
       "1                     Burundi\n",
       "2                    Tanzania\n",
       "3                       Syria\n",
       "4                      Rwanda\n",
       "5                        Togo\n",
       "6                      Guinea\n",
       "7                     Liberia\n",
       "8                       Yemen\n",
       "9                       Haiti\n",
       "Name: Country, dtype: object"
      ]
     },
     "execution_count": 7,
     "metadata": {},
     "output_type": "execute_result"
    }
   ],
   "source": [
    "#list of the 10 least happy countries\n",
    "least_happy = data.sort_values('Happiness Score')\n",
    "least_happy = least_happy.reset_index(drop=True)\n",
    "ten_least_happy = least_happy.loc[0:9]\n",
    "ten_least_happy['Country']"
   ]
  },
  {
   "cell_type": "markdown",
   "metadata": {},
   "source": [
    "## B. Indexing and grouping"
   ]
  },
  {
   "cell_type": "code",
   "execution_count": 8,
   "metadata": {},
   "outputs": [],
   "source": [
    "regions = data['Region'].unique()"
   ]
  },
  {
   "cell_type": "code",
   "execution_count": 9,
   "metadata": {},
   "outputs": [],
   "source": [
    "for i in regions:\n",
    "    export = data[data['Region'] == i]\n",
    "    export.to_csv(r'C:\\Users\\Asma\\EPFL cos\\1st project\\{0}.csv'.format(i), index=False)"
   ]
  },
  {
   "cell_type": "code",
   "execution_count": 10,
   "metadata": {},
   "outputs": [],
   "source": [
    "#creation of the different dataset : data_Africa, data_Latin_America etc\n",
    "\n",
    "var_holder = {}\n",
    " \n",
    "for i in regions:\n",
    "    name = i.replace(\" \", \"_\")\n",
    "    var_holder['data_' + name] = pd.read_csv(i+'.csv')\n",
    " \n",
    "locals().update(var_holder)\n"
   ]
  },
  {
   "cell_type": "code",
   "execution_count": 11,
   "metadata": {},
   "outputs": [
    {
     "data": {
      "text/html": [
       "<div>\n",
       "<style scoped>\n",
       "    .dataframe tbody tr th:only-of-type {\n",
       "        vertical-align: middle;\n",
       "    }\n",
       "\n",
       "    .dataframe tbody tr th {\n",
       "        vertical-align: top;\n",
       "    }\n",
       "\n",
       "    .dataframe thead th {\n",
       "        text-align: right;\n",
       "    }\n",
       "</style>\n",
       "<table border=\"1\" class=\"dataframe\">\n",
       "  <thead>\n",
       "    <tr style=\"text-align: right;\">\n",
       "      <th></th>\n",
       "      <th>Happiness Rank</th>\n",
       "      <th>Happiness Score</th>\n",
       "      <th>Economy</th>\n",
       "      <th>Family</th>\n",
       "      <th>Health</th>\n",
       "      <th>Freedom</th>\n",
       "      <th>Generosity</th>\n",
       "      <th>Corruption</th>\n",
       "      <th>Dystopia</th>\n",
       "      <th>Job Satisfaction</th>\n",
       "    </tr>\n",
       "  </thead>\n",
       "  <tbody>\n",
       "    <tr>\n",
       "      <th>count</th>\n",
       "      <td>21.000000</td>\n",
       "      <td>21.000000</td>\n",
       "      <td>21.000000</td>\n",
       "      <td>21.000000</td>\n",
       "      <td>21.000000</td>\n",
       "      <td>21.000000</td>\n",
       "      <td>21.000000</td>\n",
       "      <td>21.000000</td>\n",
       "      <td>21.000000</td>\n",
       "      <td>21.000000</td>\n",
       "    </tr>\n",
       "    <tr>\n",
       "      <th>mean</th>\n",
       "      <td>70.619048</td>\n",
       "      <td>5.498952</td>\n",
       "      <td>1.178098</td>\n",
       "      <td>1.281235</td>\n",
       "      <td>0.681838</td>\n",
       "      <td>0.311535</td>\n",
       "      <td>0.170583</td>\n",
       "      <td>0.050637</td>\n",
       "      <td>1.825065</td>\n",
       "      <td>77.628571</td>\n",
       "    </tr>\n",
       "    <tr>\n",
       "      <th>std</th>\n",
       "      <td>18.977556</td>\n",
       "      <td>0.402033</td>\n",
       "      <td>0.162833</td>\n",
       "      <td>0.190789</td>\n",
       "      <td>0.076126</td>\n",
       "      <td>0.120501</td>\n",
       "      <td>0.092248</td>\n",
       "      <td>0.045815</td>\n",
       "      <td>0.384485</td>\n",
       "      <td>6.272730</td>\n",
       "    </tr>\n",
       "    <tr>\n",
       "      <th>min</th>\n",
       "      <td>40.000000</td>\n",
       "      <td>4.644000</td>\n",
       "      <td>0.728871</td>\n",
       "      <td>0.803685</td>\n",
       "      <td>0.541452</td>\n",
       "      <td>0.095731</td>\n",
       "      <td>0.000000</td>\n",
       "      <td>0.000000</td>\n",
       "      <td>0.996139</td>\n",
       "      <td>68.500000</td>\n",
       "    </tr>\n",
       "    <tr>\n",
       "      <th>25%</th>\n",
       "      <td>56.000000</td>\n",
       "      <td>5.237000</td>\n",
       "      <td>1.069318</td>\n",
       "      <td>1.150091</td>\n",
       "      <td>0.638567</td>\n",
       "      <td>0.234232</td>\n",
       "      <td>0.113178</td>\n",
       "      <td>0.024211</td>\n",
       "      <td>1.621249</td>\n",
       "      <td>73.300000</td>\n",
       "    </tr>\n",
       "    <tr>\n",
       "      <th>50%</th>\n",
       "      <td>67.000000</td>\n",
       "      <td>5.569000</td>\n",
       "      <td>1.222556</td>\n",
       "      <td>1.258190</td>\n",
       "      <td>0.687763</td>\n",
       "      <td>0.295400</td>\n",
       "      <td>0.158466</td>\n",
       "      <td>0.041238</td>\n",
       "      <td>1.797723</td>\n",
       "      <td>77.100000</td>\n",
       "    </tr>\n",
       "    <tr>\n",
       "      <th>75%</th>\n",
       "      <td>83.000000</td>\n",
       "      <td>5.838000</td>\n",
       "      <td>1.291788</td>\n",
       "      <td>1.445712</td>\n",
       "      <td>0.708218</td>\n",
       "      <td>0.373783</td>\n",
       "      <td>0.242649</td>\n",
       "      <td>0.059308</td>\n",
       "      <td>2.010541</td>\n",
       "      <td>82.100000</td>\n",
       "    </tr>\n",
       "    <tr>\n",
       "      <th>max</th>\n",
       "      <td>109.000000</td>\n",
       "      <td>6.098000</td>\n",
       "      <td>1.355938</td>\n",
       "      <td>1.505059</td>\n",
       "      <td>0.844715</td>\n",
       "      <td>0.572576</td>\n",
       "      <td>0.328867</td>\n",
       "      <td>0.183249</td>\n",
       "      <td>2.807808</td>\n",
       "      <td>88.700000</td>\n",
       "    </tr>\n",
       "  </tbody>\n",
       "</table>\n",
       "</div>"
      ],
      "text/plain": [
       "       Happiness Rank  Happiness Score    Economy     Family     Health  \\\n",
       "count       21.000000        21.000000  21.000000  21.000000  21.000000   \n",
       "mean        70.619048         5.498952   1.178098   1.281235   0.681838   \n",
       "std         18.977556         0.402033   0.162833   0.190789   0.076126   \n",
       "min         40.000000         4.644000   0.728871   0.803685   0.541452   \n",
       "25%         56.000000         5.237000   1.069318   1.150091   0.638567   \n",
       "50%         67.000000         5.569000   1.222556   1.258190   0.687763   \n",
       "75%         83.000000         5.838000   1.291788   1.445712   0.708218   \n",
       "max        109.000000         6.098000   1.355938   1.505059   0.844715   \n",
       "\n",
       "         Freedom  Generosity  Corruption   Dystopia  Job Satisfaction  \n",
       "count  21.000000   21.000000   21.000000  21.000000         21.000000  \n",
       "mean    0.311535    0.170583    0.050637   1.825065         77.628571  \n",
       "std     0.120501    0.092248    0.045815   0.384485          6.272730  \n",
       "min     0.095731    0.000000    0.000000   0.996139         68.500000  \n",
       "25%     0.234232    0.113178    0.024211   1.621249         73.300000  \n",
       "50%     0.295400    0.158466    0.041238   1.797723         77.100000  \n",
       "75%     0.373783    0.242649    0.059308   2.010541         82.100000  \n",
       "max     0.572576    0.328867    0.183249   2.807808         88.700000  "
      ]
     },
     "execution_count": 11,
     "metadata": {},
     "output_type": "execute_result"
    }
   ],
   "source": [
    "#Europe contains only one country, Ukraine, we will add it to the Europe region with the most similar mean features\n",
    "data_Eastern_Europe.describe()"
   ]
  },
  {
   "cell_type": "code",
   "execution_count": 12,
   "metadata": {},
   "outputs": [],
   "source": [
    "data_Western_Europe.describe()\n",
    "\n",
    "#We add Ukraine to western_Europe because it's coherent geographically and with the data\n",
    "data_Eastern_Europe = pd.concat([data_Eastern_Europe, data_Europe]).reset_index(drop=True)\n",
    "del var_holder['data_Europe']\n",
    "regions = np.delete(regions, 6)\n"
   ]
  },
  {
   "cell_type": "code",
   "execution_count": 13,
   "metadata": {},
   "outputs": [
    {
     "data": {
      "text/plain": [
       "North America     7.154500\n",
       "Western Europe    6.880474\n",
       "Latin America     5.957818\n",
       "Eastern Europe    5.498952\n",
       "Asia-Pacific      5.358326\n",
       "Africa            4.254581\n",
       "dtype: float64"
      ]
     },
     "execution_count": 13,
     "metadata": {},
     "output_type": "execute_result"
    }
   ],
   "source": [
    "hap_mean = []\n",
    "for k,v in var_holder.items():\n",
    "    hap_mean.append(v['Happiness Score'].mean())\n",
    "    \n",
    "happiness_mean = pd.Series(hap_mean, index=regions)\n",
    "happiness_mean.sort_values(ascending=False)\n"
   ]
  },
  {
   "cell_type": "markdown",
   "metadata": {},
   "source": [
    "The europeans are, on average, less happy than the African while their Economy, Social support and Health are better..."
   ]
  },
  {
   "cell_type": "code",
   "execution_count": 14,
   "metadata": {},
   "outputs": [
    {
     "name": "stdout",
     "output_type": "stream",
     "text": [
      "data_Western_Europe  :  17 vs 19\n",
      "data_Africa  :  0 vs 43\n",
      "data_Eastern_Europe  :  1 vs 21\n",
      "data_Asia-Pacific  :  11 vs 43\n",
      "data_Latin_America  :  13 vs 22\n",
      "data_North_America  :  2 vs 2\n"
     ]
    }
   ],
   "source": [
    "#Number of countries with a happiness score > 6.0 vs #countrise in the region\n",
    "\n",
    "for k,v in var_holder.items():\n",
    "    print(k, ' : ', v[v['Happiness Score'] > 6].shape[0], 'vs', v.shape[0])\n",
    "    "
   ]
  },
  {
   "cell_type": "code",
   "execution_count": 15,
   "metadata": {},
   "outputs": [
    {
     "name": "stdout",
     "output_type": "stream",
     "text": [
      "data_Western_Europe\n",
      "max =  7.537000179\n",
      "min =  5.195000172\n",
      "range =  2.3420000069999993 \n",
      "\n",
      "data_Africa\n",
      "max =  5.872000217\n",
      "min =  2.6930000780000003\n",
      "range =  3.179000139 \n",
      "\n",
      "data_Eastern_Europe\n",
      "max =  6.09800005\n",
      "min =  4.644000053\n",
      "range =  1.4539999969999995 \n",
      "\n",
      "data_Asia-Pacific\n",
      "max =  7.31400013\n",
      "min =  3.461999893\n",
      "range =  3.852000237 \n",
      "\n",
      "data_Latin_America\n",
      "max =  7.078999996\n",
      "min =  3.6029999260000003\n",
      "range =  3.47600007 \n",
      "\n",
      "data_North_America\n",
      "max =  7.315999985\n",
      "min =  6.993000031\n",
      "range =  0.32299995400000014 \n",
      "\n"
     ]
    }
   ],
   "source": [
    "#max , min and range of happiness score\n",
    "\n",
    "for k,v in var_holder.items():\n",
    "    print(k)\n",
    "    print('max = ', v['Happiness Score'].max())\n",
    "    print( 'min = ', v['Happiness Score'].min())\n",
    "    print( 'range = ', (v['Happiness Score'].max() - v['Happiness Score'].min()), '\\n')\n",
    "\n",
    "    "
   ]
  },
  {
   "cell_type": "markdown",
   "metadata": {},
   "source": [
    "The largest range of happiness scores is in the region Asia-Pacific."
   ]
  },
  {
   "cell_type": "markdown",
   "metadata": {},
   "source": [
    "## C. Bar plot of the Happiness Score"
   ]
  },
  {
   "cell_type": "code",
   "execution_count": 16,
   "metadata": {},
   "outputs": [
    {
     "data": {
      "text/plain": [
       "Text(0.5, 1.0, 'Happiness Score of the 10 happiest coutrnies')"
      ]
     },
     "execution_count": 16,
     "metadata": {},
     "output_type": "execute_result"
    },
    {
     "data": {
      "image/png": "[encoded data removed]",
      "text/plain": [
       "<Figure size 432x288 with 1 Axes>"
      ]
     },
     "metadata": {
      "needs_background": "light"
     },
     "output_type": "display_data"
    }
   ],
   "source": [
    "colormap = plt.cm.tab10(range(len(ten_happiest)))\n",
    "plt.barh(ten_happiest['Country'], ten_happiest['Happiness Score'], color = colormap)\n",
    "plt.xlim([0,8])\n",
    "plt.xlabel('Happiness Score')\n",
    "plt.ylabel('Country')\n",
    "plt.title('Happiness Score of the 10 happiest coutrnies')\n",
    "\n"
   ]
  },
  {
   "cell_type": "markdown",
   "metadata": {},
   "source": [
    "#### Influence of Economy, Family, Health, Generosity, Corruption and Dystopia on Happiness Score"
   ]
  },
  {
   "cell_type": "code",
   "execution_count": 17,
   "metadata": {},
   "outputs": [
    {
     "data": {
      "text/plain": [
       "<matplotlib.legend.Legend at 0x194320ed788>"
      ]
     },
     "execution_count": 17,
     "metadata": {},
     "output_type": "execute_result"
    },
    {
     "data": {
      "image/png": "[encoded data removed]",
      "text/plain": [
       "<Figure size 936x504 with 1 Axes>"
      ]
     },
     "metadata": {
      "needs_background": "light"
     },
     "output_type": "display_data"
    }
   ],
   "source": [
    "plt.figure(figsize = (13,7))\n",
    "plt.bar(ten_happiest['Country'], ten_happiest['Economy'], edgecolor='black', label='Economy')\n",
    "plt.bar(ten_happiest['Country'], ten_happiest['Family'], edgecolor='black', bottom = ten_happiest['Economy'], label='Family' )\n",
    "plt.bar(ten_happiest['Country'], ten_happiest['Health'], edgecolor='black', bottom = ten_happiest['Economy']+ten_happiest['Family'], label='Health' )\n",
    "plt.bar(ten_happiest['Country'], ten_happiest['Freedom'], edgecolor='black', bottom = (ten_happiest['Economy']+ten_happiest['Family'] +ten_happiest['Health']), label='Freedom')\n",
    "plt.bar(ten_happiest['Country'], ten_happiest['Generosity'], edgecolor='black', bottom = (ten_happiest['Economy']+ten_happiest['Family'] +ten_happiest['Health']+ ten_happiest['Freedom']), label='Generosity')\n",
    "plt.bar(ten_happiest['Country'], ten_happiest['Corruption'], edgecolor='black', bottom = (ten_happiest['Economy']+ten_happiest['Family'] +ten_happiest['Health']+ ten_happiest['Freedom']+ ten_happiest['Generosity']), label='Corruption')\n",
    "plt.bar(ten_happiest['Country'], ten_happiest['Dystopia'], edgecolor='black', bottom = (ten_happiest['Economy']+ten_happiest['Family'] +ten_happiest['Health']+ ten_happiest['Freedom']+ ten_happiest['Generosity']+ ten_happiest['Corruption']), label='Dystopia')\n",
    "\n",
    "plt.ylim([0,8])\n",
    "plt.ylabel('Happiness Score')\n",
    "plt.xlabel('Country')\n",
    "plt.title('Detailed Happiness Score of the 10 happiest countries')\n",
    "plt.legend()\n"
   ]
  },
  {
   "cell_type": "markdown",
   "metadata": {},
   "source": [
    "#### Same but for Africa, we divide the total graph in 3:"
   ]
  },
  {
   "cell_type": "code",
   "execution_count": 18,
   "metadata": {},
   "outputs": [
    {
     "data": {
      "text/plain": [
       "<matplotlib.legend.Legend at 0x194322960c8>"
      ]
     },
     "execution_count": 18,
     "metadata": {},
     "output_type": "execute_result"
    },
    {
     "data": {
      "image/png": "[encoded data removed]",
      "text/plain": [
       "<Figure size 936x432 with 1 Axes>"
      ]
     },
     "metadata": {
      "needs_background": "light"
     },
     "output_type": "display_data"
    }
   ],
   "source": [
    "plt.figure(figsize = (13,6))\n",
    "plt.bar(data_Africa[:14]['Country'], data_Africa[:14]['Economy'], edgecolor='black', label='Economy')\n",
    "plt.bar(data_Africa[:14]['Country'], data_Africa[:14]['Family'], edgecolor='black', bottom = data_Africa[:14]['Economy'], label='Family' )\n",
    "plt.bar(data_Africa[:14]['Country'], data_Africa[:14]['Health'], edgecolor='black', bottom = data_Africa[:14]['Economy']+data_Africa[:14]['Family'], label='Health' )\n",
    "plt.bar(data_Africa[:14]['Country'], data_Africa[:14]['Freedom'], edgecolor='black', bottom = (data_Africa[:14]['Economy']+data_Africa[:14]['Family'] +data_Africa[:14]['Health']), label='Freedom')\n",
    "plt.bar(data_Africa[:14]['Country'], data_Africa[:14]['Generosity'], edgecolor='black', bottom = (data_Africa[:14]['Economy']+data_Africa[:14]['Family'] +data_Africa[:14]['Health']+ data_Africa[:14]['Freedom']), label='Generosity')\n",
    "plt.bar(data_Africa[:14]['Country'], data_Africa[:14]['Corruption'], edgecolor='black', bottom = (data_Africa[:14]['Economy']+data_Africa[:14]['Family'] +data_Africa[:14]['Health']+ data_Africa[:14]['Freedom']+ data_Africa[:14]['Generosity']), label='Corruption')\n",
    "plt.bar(data_Africa[:14]['Country'], data_Africa[:14]['Dystopia'], edgecolor='black', bottom = (data_Africa[:14]['Economy']+data_Africa[:14]['Family'] +data_Africa[:14]['Health']+ data_Africa[:14]['Freedom']+ data_Africa[:14]['Generosity']+ data_Africa[:14]['Corruption']), label='Dystopia')\n",
    "\n",
    "plt.ylim([0,6])\n",
    "plt.ylabel('Happiness Score')\n",
    "plt.xlabel('Country')\n",
    "plt.title('Happiness Score of the 10 happiest countries')\n",
    "plt.legend()\n"
   ]
  },
  {
   "cell_type": "code",
   "execution_count": 19,
   "metadata": {},
   "outputs": [
    {
     "data": {
      "text/plain": [
       "<matplotlib.legend.Legend at 0x1943242ef08>"
      ]
     },
     "execution_count": 19,
     "metadata": {},
     "output_type": "execute_result"
    },
    {
     "data": {
      "image/png": "[encoded data removed]",
      "text/plain": [
       "<Figure size 936x504 with 1 Axes>"
      ]
     },
     "metadata": {
      "needs_background": "light"
     },
     "output_type": "display_data"
    }
   ],
   "source": [
    "plt.figure(figsize = (13,7))\n",
    "plt.bar(data_Africa[14:29]['Country'], data_Africa[14:29]['Economy'], edgecolor='black', label='Economy')\n",
    "plt.bar(data_Africa[14:29]['Country'], data_Africa[14:29]['Family'], edgecolor='black', bottom = data_Africa[14:29]['Economy'], label='Family' )\n",
    "plt.bar(data_Africa[14:29]['Country'], data_Africa[14:29]['Health'], edgecolor='black', bottom = data_Africa[14:29]['Economy']+data_Africa[14:29]['Family'], label='Health' )\n",
    "plt.bar(data_Africa[14:29]['Country'], data_Africa[14:29]['Freedom'], edgecolor='black', bottom = (data_Africa[14:29]['Economy']+data_Africa[14:29]['Family'] +data_Africa[14:29]['Health']), label='Freedom')\n",
    "plt.bar(data_Africa[14:29]['Country'], data_Africa[14:29]['Generosity'], edgecolor='black', bottom = (data_Africa[14:29]['Economy']+data_Africa[14:29]['Family'] +data_Africa[14:29]['Health']+ data_Africa[14:29]['Freedom']), label='Generosity')\n",
    "plt.bar(data_Africa[14:29]['Country'], data_Africa[14:29]['Corruption'], edgecolor='black', bottom = (data_Africa[14:29]['Economy']+data_Africa[14:29]['Family'] +data_Africa[14:29]['Health']+ data_Africa[14:29]['Freedom']+ data_Africa[14:29]['Generosity']), label='Corruption')\n",
    "plt.bar(data_Africa[14:29]['Country'], data_Africa[14:29]['Dystopia'], edgecolor='black', bottom = (data_Africa[14:29]['Economy']+data_Africa[14:29]['Family'] +data_Africa[14:29]['Health']+ data_Africa[14:29]['Freedom']+ data_Africa[14:29]['Generosity']+ data_Africa[14:29]['Corruption']), label='Dystopia')\n",
    "\n",
    "plt.ylim([0,6])\n",
    "plt.ylabel('Happiness Score')\n",
    "plt.xlabel('Country')\n",
    "plt.title('Happiness Score of the 10 happiest countries')\n",
    "plt.legend()\n"
   ]
  },
  {
   "cell_type": "code",
   "execution_count": 20,
   "metadata": {},
   "outputs": [
    {
     "data": {
      "text/plain": [
       "<matplotlib.legend.Legend at 0x1943290cf88>"
      ]
     },
     "execution_count": 20,
     "metadata": {},
     "output_type": "execute_result"
    },
    {
     "data": {
      "image/png": "[encoded data removed]",
      "text/plain": [
       "<Figure size 936x504 with 1 Axes>"
      ]
     },
     "metadata": {
      "needs_background": "light"
     },
     "output_type": "display_data"
    }
   ],
   "source": [
    "plt.figure(figsize = (13,7))\n",
    "plt.bar(data_Africa[29:]['Country'], data_Africa[29:]['Economy'], edgecolor='black', label='Economy')\n",
    "plt.bar(data_Africa[29:]['Country'], data_Africa[29:]['Family'], edgecolor='black', bottom = data_Africa[29:]['Economy'], label='Family' )\n",
    "plt.bar(data_Africa[29:]['Country'], data_Africa[29:]['Health'], edgecolor='black', bottom = data_Africa[29:]['Economy']+data_Africa[29:]['Family'], label='Health' )\n",
    "plt.bar(data_Africa[29:]['Country'], data_Africa[29:]['Freedom'], edgecolor='black', bottom = (data_Africa[29:]['Economy']+data_Africa[29:]['Family'] +data_Africa[29:]['Health']), label='Freedom')\n",
    "plt.bar(data_Africa[29:]['Country'], data_Africa[29:]['Generosity'], edgecolor='black', bottom = (data_Africa[29:]['Economy']+data_Africa[29:]['Family'] +data_Africa[29:]['Health']+ data_Africa[29:]['Freedom']), label='Generosity')\n",
    "plt.bar(data_Africa[29:]['Country'], data_Africa[29:]['Corruption'], edgecolor='black', bottom = (data_Africa[29:]['Economy']+data_Africa[29:]['Family'] +data_Africa[29:]['Health']+ data_Africa[29:]['Freedom']+ data_Africa[29:]['Generosity']), label='Corruption')\n",
    "plt.bar(data_Africa[29:]['Country'], data_Africa[29:]['Dystopia'], edgecolor='black', bottom = (data_Africa[29:]['Economy']+data_Africa[29:]['Family'] +data_Africa[29:]['Health']+ data_Africa[29:]['Freedom']+ data_Africa[29:]['Generosity']+ data_Africa[29:]['Corruption']), label='Dystopia')\n",
    "\n",
    "plt.ylim([0,6])\n",
    "plt.ylabel('Happiness Score')\n",
    "plt.xlabel('Country')\n",
    "plt.title('Happiness Score of the 10 happiest countries')\n",
    "plt.legend()\n"
   ]
  },
  {
   "cell_type": "markdown",
   "metadata": {},
   "source": [
    "## D. Histogram of Job Satisfaction"
   ]
  },
  {
   "cell_type": "code",
   "execution_count": 21,
   "metadata": {},
   "outputs": [
    {
     "data": {
      "text/plain": [
       "0"
      ]
     },
     "execution_count": 21,
     "metadata": {},
     "output_type": "execute_result"
    }
   ],
   "source": [
    "def job_cat(x):\n",
    "    if x>90:\n",
    "        return '90%-100%'\n",
    "    elif x>80:\n",
    "        return '80%-90%'\n",
    "    elif x>70:\n",
    "        return '70%-80%'\n",
    "    elif x>60:\n",
    "        return '60%-70%'\n",
    "    elif x>50:\n",
    "        return '50%-60%'\n",
    "    else:\n",
    "        return '40%-50%'\n",
    "\n",
    "#we check that job satisfaction is always >40:\n",
    "data[data['Job Satisfaction'] <=40].shape[0]"
   ]
  },
  {
   "cell_type": "code",
   "execution_count": 22,
   "metadata": {},
   "outputs": [
    {
     "data": {
      "text/plain": [
       "(40, 100)"
      ]
     },
     "execution_count": 22,
     "metadata": {},
     "output_type": "execute_result"
    },
    {
     "data": {
      "image/png": "[encoded data removed]",
      "text/plain": [
       "<Figure size 432x288 with 1 Axes>"
      ]
     },
     "metadata": {
      "needs_background": "light"
     },
     "output_type": "display_data"
    }
   ],
   "source": [
    "#Let's apply our function to Job Satisfaction column to plot our histogram:\n",
    "\n",
    "data_hist = data.copy()\n",
    "data_hist['Job Satisfaction'] = data_hist['Job Satisfaction'].map( lambda x : job_cat(x))\n",
    "\n",
    "colormap = plt.cm.tab10(range(6))\n",
    "data['Job Satisfaction'].plot.hist(bins = 6, range=(40,100), edgecolor = 'black')\n",
    "#plt.bar(data['Job Satisfaction'], height='frequency')\n",
    "plt.xlim([40,100])\n"
   ]
  },
  {
   "cell_type": "markdown",
   "metadata": {},
   "source": [
    "## E. Pairwise Scatter plots"
   ]
  },
  {
   "cell_type": "markdown",
   "metadata": {},
   "source": [
    "Let's visualize the Happiness Score versus each of the other variables"
   ]
  },
  {
   "cell_type": "code",
   "execution_count": 23,
   "metadata": {},
   "outputs": [
    {
     "data": {
      "text/plain": [
       "<seaborn.axisgrid.PairGrid at 0x194317e1348>"
      ]
     },
     "execution_count": 23,
     "metadata": {},
     "output_type": "execute_result"
    },
    {
     "data": {
      "image/png": "[encoded data removed]",
      "text/plain": [
       "<Figure size 720x180 with 4 Axes>"
      ]
     },
     "metadata": {
      "needs_background": "light"
     },
     "output_type": "display_data"
    }
   ],
   "source": [
    "sns.pairplot(data, x_vars = ['Happiness Rank', 'Economy', 'Family',\n",
    "       'Health'], y_vars=['Happiness Score'])"
   ]
  },
  {
   "cell_type": "code",
   "execution_count": 24,
   "metadata": {},
   "outputs": [
    {
     "data": {
      "text/plain": [
       "<seaborn.axisgrid.PairGrid at 0x19432f9a208>"
      ]
     },
     "execution_count": 24,
     "metadata": {},
     "output_type": "execute_result"
    },
    {
     "data": {
      "image/png": "[encoded data removed]",
      "text/plain": [
       "<Figure size 900x180 with 5 Axes>"
      ]
     },
     "metadata": {
      "needs_background": "light"
     },
     "output_type": "display_data"
    }
   ],
   "source": [
    "sns.pairplot(data, x_vars = ['Freedom', 'Generosity', 'Corruption', 'Dystopia',\n",
    "       'Job Satisfaction'], y_vars=['Happiness Score'])"
   ]
  },
  {
   "cell_type": "markdown",
   "metadata": {},
   "source": [
    "The happiness rank is linearly derived from the happiness score. We can identify 4 others variables with a linear dependancy with the happiness score: Economy, Family, Health and Job Satisfaction."
   ]
  },
  {
   "cell_type": "markdown",
   "metadata": {},
   "source": [
    "## F. Correlation"
   ]
  },
  {
   "cell_type": "code",
   "execution_count": 25,
   "metadata": {},
   "outputs": [
    {
     "data": {
      "text/plain": [
       "Happiness Rank      0.992663\n",
       "Happiness Score     1.000000\n",
       "Economy             0.808678\n",
       "Family              0.749612\n",
       "Health              0.777731\n",
       "Freedom             0.567948\n",
       "Generosity          0.164123\n",
       "Corruption          0.438262\n",
       "Dystopia            0.481117\n",
       "Job Satisfaction    0.812873\n",
       "Name: Happiness Score, dtype: float64"
      ]
     },
     "execution_count": 25,
     "metadata": {},
     "output_type": "execute_result"
    }
   ],
   "source": [
    "data.corr().abs()['Happiness Score']"
   ]
  },
  {
   "cell_type": "markdown",
   "metadata": {},
   "source": [
    "Without considering the Happiness Rank, which is directly derived from the Happiness Score, the highest correlation is with Economy. The correlation coefficients confirm what we saw with the pairplots."
   ]
  },
  {
   "cell_type": "markdown",
   "metadata": {},
   "source": [
    "## G. Probabilities"
   ]
  },
  {
   "cell_type": "code",
   "execution_count": 26,
   "metadata": {},
   "outputs": [
    {
     "name": "stdout",
     "output_type": "stream",
     "text": [
      "The proability that randomly selected country with Happiness score over 6.0 is from Western Europe is 0.12582781456953643\n"
     ]
    }
   ],
   "source": [
    "P_western_europe = data_Western_Europe.shape[0]/data.shape[0]\n",
    "P_happiness_over_6 = data[data['Happiness Score'] > 6].shape[0] / data.shape[0]\n",
    "P_western_europe_and_happiness_over_6 = data_Western_Europe[data_Western_Europe['Happiness Score'] > 6].shape[0] / data.shape[0]\n",
    "\n",
    "P_western_europe_while_happiness_over_6 = P_western_europe * P_western_europe_and_happiness_over_6 / P_western_europe_and_happiness_over_6\n",
    "\n",
    "print('The proability that randomly selected country with Happiness score over 6.0 is from Western Europe is', P_western_europe_while_happiness_over_6)"
   ]
  },
  {
   "cell_type": "markdown",
   "metadata": {},
   "source": [
    "## H. Matrices\n"
   ]
  },
  {
   "cell_type": "code",
   "execution_count": 27,
   "metadata": {},
   "outputs": [],
   "source": [
    "M = np.zeros((data.shape[0],len(regions)))"
   ]
  },
  {
   "cell_type": "code",
   "execution_count": 28,
   "metadata": {},
   "outputs": [
    {
     "data": {
      "text/plain": [
       "array([[1., 0., 0., 0., 0., 0.],\n",
       "       [0., 1., 0., 0., 0., 0.],\n",
       "       [0., 0., 1., 0., 0., 0.],\n",
       "       [0., 0., 0., 1., 0., 0.],\n",
       "       [0., 0., 0., 0., 1., 0.],\n",
       "       [0., 0., 0., 1., 0., 0.],\n",
       "       [0., 0., 1., 0., 0., 0.],\n",
       "       [0., 1., 0., 0., 0., 0.],\n",
       "       [0., 1., 0., 0., 0., 0.],\n",
       "       [0., 0., 1., 0., 0., 0.],\n",
       "       [0., 0., 0., 1., 0., 0.],\n",
       "       [0., 0., 0., 1., 0., 0.],\n",
       "       [0., 0., 0., 1., 0., 0.],\n",
       "       [0., 1., 0., 0., 0., 0.],\n",
       "       [0., 1., 0., 0., 0., 0.],\n",
       "       [0., 0., 0., 1., 0., 0.],\n",
       "       [0., 0., 0., 1., 0., 0.],\n",
       "       [0., 0., 0., 1., 0., 0.],\n",
       "       [0., 0., 0., 1., 0., 0.],\n",
       "       [0., 0., 0., 1., 0., 0.],\n",
       "       [0., 0., 0., 0., 1., 0.],\n",
       "       [1., 0., 0., 0., 0., 0.],\n",
       "       [0., 1., 0., 0., 0., 0.],\n",
       "       [0., 0., 0., 0., 1., 0.],\n",
       "       [0., 0., 0., 1., 0., 0.],\n",
       "       [0., 1., 0., 0., 0., 0.],\n",
       "       [0., 1., 0., 0., 0., 0.],\n",
       "       [0., 0., 1., 0., 0., 0.],\n",
       "       [0., 1., 0., 0., 0., 0.],\n",
       "       [0., 1., 0., 0., 0., 0.],\n",
       "       [1., 0., 0., 0., 0., 0.],\n",
       "       [0., 0., 0., 1., 0., 0.],\n",
       "       [0., 0., 1., 0., 0., 0.],\n",
       "       [0., 0., 0., 1., 0., 0.],\n",
       "       [1., 0., 0., 0., 0., 0.],\n",
       "       [0., 1., 0., 0., 0., 0.],\n",
       "       [0., 0., 0., 1., 0., 0.],\n",
       "       [0., 0., 0., 1., 0., 0.],\n",
       "       [0., 0., 0., 0., 1., 0.],\n",
       "       [0., 0., 0., 1., 0., 0.],\n",
       "       [0., 1., 0., 0., 0., 0.],\n",
       "       [0., 0., 0., 1., 0., 0.],\n",
       "       [1., 0., 0., 0., 0., 0.],\n",
       "       [1., 0., 0., 0., 0., 0.],\n",
       "       [0., 1., 0., 0., 0., 0.],\n",
       "       [0., 0., 1., 0., 0., 0.],\n",
       "       [1., 0., 0., 0., 0., 0.],\n",
       "       [0., 1., 0., 0., 0., 0.],\n",
       "       [0., 0., 0., 0., 1., 0.],\n",
       "       [0., 0., 0., 1., 0., 0.],\n",
       "       [0., 0., 0., 1., 0., 0.],\n",
       "       [0., 1., 0., 0., 0., 0.],\n",
       "       [0., 1., 0., 0., 0., 0.],\n",
       "       [0., 1., 0., 0., 0., 0.],\n",
       "       [0., 0., 0., 0., 1., 0.],\n",
       "       [0., 0., 1., 0., 0., 0.],\n",
       "       [0., 0., 1., 0., 0., 0.],\n",
       "       [0., 1., 0., 0., 0., 0.],\n",
       "       [0., 0., 0., 1., 0., 0.],\n",
       "       [0., 1., 0., 0., 0., 0.],\n",
       "       [0., 1., 0., 0., 0., 0.],\n",
       "       [0., 0., 0., 1., 0., 0.],\n",
       "       [0., 0., 1., 0., 0., 0.],\n",
       "       [0., 0., 0., 0., 1., 0.],\n",
       "       [0., 0., 1., 0., 0., 0.],\n",
       "       [0., 1., 0., 0., 0., 0.],\n",
       "       [0., 0., 0., 1., 0., 0.],\n",
       "       [0., 0., 0., 1., 0., 0.],\n",
       "       [0., 0., 0., 0., 1., 0.],\n",
       "       [0., 0., 0., 0., 0., 1.],\n",
       "       [0., 1., 0., 0., 0., 0.],\n",
       "       [0., 0., 0., 0., 0., 0.],\n",
       "       [0., 0., 0., 1., 0., 0.],\n",
       "       [1., 0., 0., 0., 0., 0.],\n",
       "       [0., 0., 1., 0., 0., 0.],\n",
       "       [0., 0., 1., 0., 0., 0.],\n",
       "       [1., 0., 0., 0., 0., 0.],\n",
       "       [0., 1., 0., 0., 0., 0.],\n",
       "       [0., 0., 1., 0., 0., 0.],\n",
       "       [0., 0., 0., 0., 0., 1.],\n",
       "       [0., 0., 0., 0., 1., 0.],\n",
       "       [0., 1., 0., 0., 0., 0.],\n",
       "       [0., 0., 0., 0., 1., 0.],\n",
       "       [0., 0., 0., 1., 0., 0.],\n",
       "       [1., 0., 0., 0., 0., 0.],\n",
       "       [0., 0., 1., 0., 0., 0.],\n",
       "       [0., 1., 0., 0., 0., 0.],\n",
       "       [0., 1., 0., 0., 0., 0.],\n",
       "       [0., 1., 0., 0., 0., 0.],\n",
       "       [1., 0., 0., 0., 0., 0.],\n",
       "       [0., 0., 0., 0., 1., 0.],\n",
       "       [0., 0., 0., 1., 0., 0.],\n",
       "       [0., 1., 0., 0., 0., 0.],\n",
       "       [0., 0., 0., 0., 1., 0.],\n",
       "       [0., 0., 0., 1., 0., 0.],\n",
       "       [1., 0., 0., 0., 0., 0.],\n",
       "       [0., 0., 0., 1., 0., 0.],\n",
       "       [0., 1., 0., 0., 0., 0.],\n",
       "       [0., 0., 0., 0., 1., 0.],\n",
       "       [1., 0., 0., 0., 0., 0.],\n",
       "       [0., 1., 0., 0., 0., 0.],\n",
       "       [1., 0., 0., 0., 0., 0.],\n",
       "       [0., 0., 1., 0., 0., 0.],\n",
       "       [1., 0., 0., 0., 0., 0.],\n",
       "       [0., 0., 0., 1., 0., 0.],\n",
       "       [0., 1., 0., 0., 0., 0.],\n",
       "       [0., 1., 0., 0., 0., 0.],\n",
       "       [1., 0., 0., 0., 0., 0.],\n",
       "       [0., 0., 0., 0., 1., 0.],\n",
       "       [0., 0., 0., 0., 1., 0.],\n",
       "       [0., 0., 1., 0., 0., 0.],\n",
       "       [0., 0., 1., 0., 0., 0.],\n",
       "       [0., 0., 0., 1., 0., 0.],\n",
       "       [0., 0., 0., 0., 1., 0.],\n",
       "       [0., 1., 0., 0., 0., 0.],\n",
       "       [0., 0., 0., 0., 1., 0.],\n",
       "       [0., 0., 0., 1., 0., 0.],\n",
       "       [0., 1., 0., 0., 0., 0.],\n",
       "       [0., 0., 0., 1., 0., 0.],\n",
       "       [0., 1., 0., 0., 0., 0.],\n",
       "       [0., 0., 1., 0., 0., 0.],\n",
       "       [1., 0., 0., 0., 0., 0.],\n",
       "       [0., 0., 0., 0., 1., 0.],\n",
       "       [1., 0., 0., 0., 0., 0.],\n",
       "       [0., 1., 0., 0., 0., 0.],\n",
       "       [0., 0., 0., 0., 1., 0.],\n",
       "       [0., 0., 0., 0., 1., 0.],\n",
       "       [0., 1., 0., 0., 0., 0.],\n",
       "       [0., 1., 0., 0., 0., 0.],\n",
       "       [0., 0., 0., 1., 0., 0.],\n",
       "       [0., 1., 0., 0., 0., 0.],\n",
       "       [0., 1., 0., 0., 0., 0.],\n",
       "       [0., 0., 0., 1., 0., 0.],\n",
       "       [0., 0., 0., 1., 0., 0.],\n",
       "       [0., 0., 0., 1., 0., 0.],\n",
       "       [0., 0., 1., 0., 0., 0.],\n",
       "       [0., 0., 0., 1., 0., 0.],\n",
       "       [0., 1., 0., 0., 0., 0.],\n",
       "       [0., 0., 0., 1., 0., 0.],\n",
       "       [0., 0., 0., 1., 0., 0.],\n",
       "       [0., 1., 0., 0., 0., 0.],\n",
       "       [0., 0., 1., 0., 0., 0.],\n",
       "       [0., 0., 0., 1., 0., 0.],\n",
       "       [1., 0., 0., 0., 0., 0.],\n",
       "       [0., 0., 0., 0., 1., 0.],\n",
       "       [0., 0., 0., 0., 1., 0.],\n",
       "       [0., 0., 0., 1., 0., 0.],\n",
       "       [0., 1., 0., 0., 0., 0.],\n",
       "       [0., 0., 0., 1., 0., 0.],\n",
       "       [0., 0., 0., 1., 0., 0.],\n",
       "       [0., 0., 1., 0., 0., 0.]])"
      ]
     },
     "execution_count": 28,
     "metadata": {},
     "output_type": "execute_result"
    }
   ],
   "source": [
    "for i in range(len(regions)):\n",
    "    r = regions[i]\n",
    "    M[:,i] = data['Region'] == r   \n",
    "M"
   ]
  }
 ],
 "metadata": {
  "kernelspec": {
   "display_name": "Python 3",
   "language": "python",
   "name": "python3"
  },
  "language_info": {
   "codemirror_mode": {
    "name": "ipython",
    "version": 3
   },
   "file_extension": ".py",
   "mimetype": "text/x-python",
   "name": "python",
   "nbconvert_exporter": "python",
   "pygments_lexer": "ipython3",
   "version": "3.7.6"
  }
 },
 "nbformat": 4,
 "nbformat_minor": 4
}
